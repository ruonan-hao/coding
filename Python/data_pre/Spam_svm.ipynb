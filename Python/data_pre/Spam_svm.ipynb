{
 "cells": [
  {
   "cell_type": "code",
   "execution_count": 12,
   "metadata": {
    "collapsed": false
   },
   "outputs": [],
   "source": [
    "import scipy.io as sio\n",
    "import matplotlib.pyplot as plt\n",
    "import numpy as np\n",
    "import random\n",
    "import os\n",
    "from sklearn import svm\n",
    "from sklearn import grid_search\n",
    "from sklearn.preprocessing import normalize\n",
    "from sklearn.ensemble import RandomForestClassifier\n",
    "from sklearn.ensemble import GradientBoostingClassifier\n",
    "from sklearn.cross_validation import KFold"
   ]
  },
  {
   "cell_type": "markdown",
   "metadata": {},
   "source": [
    "# Spam dataset"
   ]
  },
  {
   "cell_type": "markdown",
   "metadata": {},
   "source": [
    "Get data"
   ]
  },
  {
   "cell_type": "code",
   "execution_count": 9,
   "metadata": {
    "collapsed": false
   },
   "outputs": [],
   "source": [
    "cwd = \"/Users/Yolica/Google Drive/CS289A/hw2017/HW1\"\n",
    "spam = sio.loadmat(cwd+\"/hw01_data/spam/spam_data.mat\")\n",
    "\n",
    "spam_train = spam['training_data']\n",
    "#spam_train = normalize(spam_train)\n",
    "spam_train_labels = spam['training_labels']\n",
    "spam_test = spam['test_data']  # spam test set\n",
    "#spam_test = normalize(spam_test)\n",
    "\n",
    "samplerowT = random.sample(range(0,len(spam_train)),round(0.8*len(spam_train)))\n",
    "samplerowF = [i for i in range(len(spam_train)) if i not in samplerowT]           \n",
    "train_spam = spam_train[samplerowT]\n",
    "\n",
    "val_spam = spam_train[samplerowF]\n",
    "\n",
    "label_spam = spam_train_labels[0][samplerowT]\n",
    "label_val_spam = spam_train_labels[0][samplerowF]\n",
    "\n",
    "trainSpam = {\"train\" : train_spam,\n",
    "             \"label\" : label_spam}\n",
    "\n",
    "\n",
    "def random_split_spam(dataset, k):\n",
    "    samplerowT = random.sample(range(0,len(dataset[\"train\"])),k)\n",
    "    train_spam = dataset[\"train\"][samplerowT]\n",
    "    label_spam = dataset[\"label\"][samplerowT]\n",
    "    return({'trainset':train_spam,\n",
    "            'label':label_spam})\n",
    "  "
   ]
  },
  {
   "cell_type": "code",
   "execution_count": 19,
   "metadata": {
    "collapsed": false
   },
   "outputs": [
    {
     "data": {
      "text/plain": [
       "RandomForestClassifier(bootstrap=True, class_weight=None, criterion='gini',\n",
       "            max_depth=None, max_features='auto', max_leaf_nodes=None,\n",
       "            min_impurity_split=1e-07, min_samples_leaf=1,\n",
       "            min_samples_split=2, min_weight_fraction_leaf=0.0,\n",
       "            n_estimators=100, n_jobs=1, oob_score=False, random_state=None,\n",
       "            verbose=0, warm_start=False)"
      ]
     },
     "execution_count": 19,
     "metadata": {},
     "output_type": "execute_result"
    }
   ],
   "source": [
    "model = RandomForestClassifier(n_estimators= 100)\n",
    "model.fit(train_spam,label_spam)\n"
   ]
  },
  {
   "cell_type": "code",
   "execution_count": 18,
   "metadata": {
    "collapsed": false
   },
   "outputs": [
    {
     "data": {
      "text/plain": [
       "GradientBoostingClassifier(criterion='friedman_mse', init=None,\n",
       "              learning_rate=0.1, loss='deviance', max_depth=3,\n",
       "              max_features=None, max_leaf_nodes=None,\n",
       "              min_impurity_split=1e-07, min_samples_leaf=1,\n",
       "              min_samples_split=2, min_weight_fraction_leaf=0.0,\n",
       "              n_estimators=100, presort='auto', random_state=None,\n",
       "              subsample=1.0, verbose=0, warm_start=False)"
      ]
     },
     "execution_count": 18,
     "metadata": {},
     "output_type": "execute_result"
    }
   ],
   "source": [
    "model = GradientBoostingClassifier(n_estimators= 100)\n",
    "model.fit(train_spam,label_spam)"
   ]
  },
  {
   "cell_type": "code",
   "execution_count": 20,
   "metadata": {
    "collapsed": false
   },
   "outputs": [
    {
     "data": {
      "text/plain": [
       "0.9198355601233299"
      ]
     },
     "execution_count": 20,
     "metadata": {},
     "output_type": "execute_result"
    }
   ],
   "source": [
    "model.score(val_spam,label_val_spam)"
   ]
  },
  {
   "cell_type": "markdown",
   "metadata": {},
   "source": [
    "Problem2(a) error rate"
   ]
  },
  {
   "cell_type": "code",
   "execution_count": 5,
   "metadata": {
    "collapsed": false
   },
   "outputs": [
    {
     "name": "stdout",
     "output_type": "stream",
     "text": [
      "Sample size is 100 ; Training Accuracy is 0.98\n",
      "Sample size is 200 ; Training Accuracy is 0.945\n",
      "Sample size is 500 ; Training Accuracy is 0.926\n",
      "Sample size is 1000 ; Training Accuracy is 0.936\n",
      "Sample size is 2000 ; Training Accuracy is 0.9315\n",
      "Sample size is 3893 ; Training Accuracy is 0.939121500128\n",
      "[0.97999999999999998, 0.94499999999999995, 0.92600000000000005, 0.93600000000000005, 0.93149999999999999, 0.93912150012843565]\n",
      "Sample size is 100 ; Validation Accuracy is 0.866392600206\n",
      "Sample size is 200 ; Validation Accuracy is 0.86022610483\n",
      "Sample size is 500 ; Validation Accuracy is 0.890030832477\n",
      "Sample size is 1000 ; Validation Accuracy is 0.890030832477\n",
      "Sample size is 2000 ; Validation Accuracy is 0.91161356629\n",
      "Sample size is 3893 ; Validation Accuracy is 0.922918807811\n",
      "[0.86639260020554987, 0.86022610483042139, 0.89003083247687564, 0.89003083247687564, 0.91161356628982526, 0.92291880781089419]\n"
     ]
    }
   ],
   "source": [
    "example = [100, 200, 500, 1000, 2000, 3893]\n",
    "train_err = []\n",
    "for i in example:\n",
    "    train = random_split_spam(trainSpam,i)\n",
    "    model = svm.SVC(kernel=\"linear\").fit(train['trainset'],train['label'])\n",
    "    acc = model.score(train['trainset'],train['label'])\n",
    "    print('Sample size is', i, ';', 'Training Accuracy is', acc)\n",
    "    train_err.append(acc)\n",
    "print(train_err)\n",
    "\n",
    "example = [100, 200, 500, 1000, 2000, 3893]\n",
    "val_err = []\n",
    "for i in example:\n",
    "    train = random_split_spam(trainSpam,i)\n",
    "    model = svm.SVC(kernel=\"linear\").fit(train['trainset'],train['label'])\n",
    "    acc = model.score(val_spam,label_val_spam)\n",
    "    print('Sample size is', i, ';', 'Validation Accuracy is', acc)\n",
    "    val_err.append(acc)\n",
    "print(val_err)"
   ]
  },
  {
   "cell_type": "markdown",
   "metadata": {},
   "source": [
    "Plot"
   ]
  },
  {
   "cell_type": "code",
   "execution_count": 11,
   "metadata": {
    "collapsed": false
   },
   "outputs": [
    {
     "data": {
      "image/png": "[encoded data removed]",
      "text/plain": [
       "<matplotlib.figure.Figure at 0x10d4653c8>"
      ]
     },
     "metadata": {},
     "output_type": "display_data"
    }
   ],
   "source": [
    "plt.plot(example,[1-a for a in val_err],'b*',color=\"blue\")\n",
    "plt.plot(example,[1-a for a in val_err],'r-',color=\"blue\", linewidth=2.5, label = \"training error\")\n",
    "plt.plot(example,[1-a for a in train_err],'r-', color=\"red\",linewidth=2.5, label = \"validation error\")\n",
    "plt.plot(example,[1-a for a in train_err],'b*', color=\"red\")\n",
    "\n",
    "plt.xlabel(\"Training size\")\n",
    "plt.ylabel(\"Error rate\")\n",
    "plt.title(\"Spam SVM Error Rate\")\n",
    "plt.legend(loc = \"upper right\")\n",
    "\n",
    "plt.savefig(\"SpamLC.png\",dpi=72)\n",
    "plt.show()"
   ]
  },
  {
   "cell_type": "markdown",
   "metadata": {},
   "source": [
    "Problem4 Cross Validation"
   ]
  },
  {
   "cell_type": "code",
   "execution_count": 7,
   "metadata": {
    "collapsed": false
   },
   "outputs": [
    {
     "name": "stdout",
     "output_type": "stream",
     "text": [
      "C is 1 The accuracy is  0.926425395325\n",
      "C is 3 The accuracy is  0.92745272248\n",
      "C is 10 The accuracy is  0.926016194964\n",
      "C is 30 The accuracy is  0.927866143577\n",
      "C is 100 The accuracy is  0.931359646809\n",
      "C is 200 The accuracy is  0.929920797888\n",
      "C is 300 The accuracy is  0.929304359387\n",
      "C is 500 The accuracy is  0.929714192858\n",
      "[0.9264253953246907, 0.92745272248027333, 0.92601619496423981, 0.92786614357677843, 0.93135964680880701, 0.92992079788794368, 0.92930435938723366, 0.92971419285809254]\n"
     ]
    }
   ],
   "source": [
    "C = [1,3,10,30,100,200,300,500]\n",
    "kf = KFold(len(spam_train),n_folds = 5,shuffle=True)\n",
    "C_acc_spam = []\n",
    "for i in C:\n",
    "    Acc_CV = []\n",
    "    for train, val in kf:  \n",
    "        X_train, X_val = spam_train[train],spam_train[val]\n",
    "        y_train, y_val = spam_train_labels[0][train],spam_train_labels[0][val]\n",
    "        model = svm.SVC(C = i, kernel=\"linear\").fit(X_train,y_train)\n",
    "        acc = model.score(X_val,y_val)\n",
    "        Acc_CV.append(acc)\n",
    "    acc_cv = np.mean(Acc_CV)\n",
    "    C_acc_spam.append(acc_cv)\n",
    "    print('C is', i,'The accuracy is ', acc_cv)\n",
    "print(C_acc_spam)"
   ]
  },
  {
   "cell_type": "code",
   "execution_count": 13,
   "metadata": {
    "collapsed": false
   },
   "outputs": [
    {
     "name": "stdout",
     "output_type": "stream",
     "text": [
      "The best C is 100 ; the corresponding accuracy is 0.931359646809\n"
     ]
    }
   ],
   "source": [
    "C_opt = C[C_acc_spam.index(max(C_acc_spam))]\n",
    "print('The best C is',C_opt, \";\", \"the corresponding accuracy is\", max(C_acc_spam))"
   ]
  },
  {
   "cell_type": "markdown",
   "metadata": {},
   "source": [
    "Prediction"
   ]
  },
  {
   "cell_type": "code",
   "execution_count": 14,
   "metadata": {
    "collapsed": false
   },
   "outputs": [],
   "source": [
    "model = svm.SVC(C = C_opt, kernel=\"linear\").fit(spam_train,spam_train_labels[0])\n",
    "result = model.predict(spam_test)"
   ]
  },
  {
   "cell_type": "code",
   "execution_count": 15,
   "metadata": {
    "collapsed": false
   },
   "outputs": [],
   "source": [
    "np.savetxt('prediction_spam.csv', result, delimiter = ',')"
   ]
  }
 ],
 "metadata": {
  "anaconda-cloud": {},
  "kernelspec": {
   "display_name": "Python [default]",
   "language": "python",
   "name": "python3"
  },
  "language_info": {
   "codemirror_mode": {
    "name": "ipython",
    "version": 3
   },
   "file_extension": ".py",
   "mimetype": "text/x-python",
   "name": "python",
   "nbconvert_exporter": "python",
   "pygments_lexer": "ipython3",
   "version": "3.5.2"
  }
 },
 "nbformat": 4,
 "nbformat_minor": 1
}
