{
 "cells": [
  {
   "cell_type": "code",
   "execution_count": 2,
   "metadata": {
    "collapsed": true
   },
   "outputs": [],
   "source": [
    "import scipy.io as sio\n",
    "import matplotlib.pyplot as plt\n",
    "import numpy as np\n",
    "import random\n",
    "import os\n",
    "from sklearn import svm\n",
    "from sklearn.preprocessing import normalize"
   ]
  },
  {
   "cell_type": "markdown",
   "metadata": {},
   "source": [
    "# Mnist Data set"
   ]
  },
  {
   "cell_type": "markdown",
   "metadata": {},
   "source": [
    "Problem1 Get data"
   ]
  },
  {
   "cell_type": "code",
   "execution_count": 35,
   "metadata": {
    "collapsed": true
   },
   "outputs": [],
   "source": [
    "cwd = \"/Users/Yolica/Google Drive/CS289A/hw2017/HW1\"\n",
    "\n",
    "mnist = sio.loadmat(cwd+\"/hw01_data/mnist/train.mat\")\n",
    "#mnist_test = sio.loadmat(cwd + \"/hw01_data/mnist/test.mat\")\n",
    "mnist = mnist['trainX'] # mnist train set\n",
    "mnist_train = mnist[...,range(mnist.shape[1]-1)]\n",
    "train_label = mnist[...,-1]\n",
    "\n",
    "mnist_train = normalize(mnist_train)\n",
    "samplerowT = random.sample(range(0,len(mnist_train)),50000)\n",
    "samplerowF = [i for i in range(len(mnist_train)) if i not in samplerowT] \n",
    "train = mnist_train[samplerowT]\n",
    "val = mnist_train[samplerowF]\n",
    "label = train_label[samplerowT]\n",
    "label_val = train_label[samplerowF]\n",
    "\n",
    "trainMnist = {\"train\" : train,\n",
    "             \"label\" : label}\n",
    "\n",
    "valMnist = {\"val\" : val,\n",
    "             \"label\" : label_val}\n",
    "\n",
    "\n",
    "def random_split(dataset, k):\n",
    "    samplerowT = random.sample(range(0,len(dataset[\"train\"])),k)\n",
    "    train_spam = dataset[\"train\"][samplerowT]\n",
    "    label_spam = dataset[\"label\"][samplerowT]\n",
    "    return({'trainset':train_spam,\n",
    "            'label':label_spam})\n",
    "  \n"
   ]
  },
  {
   "cell_type": "markdown",
   "metadata": {},
   "source": [
    "Problem2(a) Calculating training sets error rate"
   ]
  },
  {
   "cell_type": "code",
   "execution_count": 53,
   "metadata": {
    "collapsed": false
   },
   "outputs": [
    {
     "name": "stdout",
     "output_type": "stream",
     "text": [
      "Sample size is 100 ; Accuracy is 0.93\n",
      "Sample size is 200 ; Accuracy is 0.94\n",
      "Sample size is 500 ; Accuracy is 0.95\n",
      "Sample size is 1000 ; Accuracy is 0.946\n",
      "Sample size is 2000 ; Accuracy is 0.9425\n",
      "Sample size is 5000 ; Accuracy is 0.9476\n",
      "Sample size is 10000 ; Accuracy is 0.9472\n",
      "[0.93000000000000005, 0.93999999999999995, 0.94999999999999996, 0.94599999999999995, 0.9425, 0.9476, 0.94720000000000004]\n"
     ]
    }
   ],
   "source": [
    "example = [100, 200, 500, 1000, 2000, 5000,10000]\n",
    "train_err = []\n",
    "for i in example:\n",
    "    train = random_split(trainMnist,i)\n",
    "    #validation = np.asarray(train_mnist)\n",
    "    model = svm.SVC(kernel=\"linear\").fit(train['trainset'],train['label'])\n",
    "    acc = model.score(train['trainset'],train['label'])\n",
    "    train_err.append(acc)\n",
    "    print('Sample size is', i, ';', 'Accuracy is', acc)\n",
    "print(train_err)\n",
    "\n"
   ]
  },
  {
   "cell_type": "markdown",
   "metadata": {},
   "source": [
    "Problem2(b) Calculating validation sets error rate"
   ]
  },
  {
   "cell_type": "code",
   "execution_count": 57,
   "metadata": {
    "collapsed": false
   },
   "outputs": [
    {
     "name": "stdout",
     "output_type": "stream",
     "text": [
      "Sample size is 100 ; Accuracy is 0.6621\n",
      "Sample size is 200 ; Accuracy is 0.7839\n",
      "Sample size is 500 ; Accuracy is 0.8627\n",
      "Sample size is 1000 ; Accuracy is 0.8924\n",
      "Sample size is 2000 ; Accuracy is 0.9081\n",
      "Sample size is 5000 ; Accuracy is 0.9207\n",
      "Sample size is 10000 ; Accuracy is 0.9291\n",
      "[0.66210000000000002, 0.78390000000000004, 0.86270000000000002, 0.89239999999999997, 0.90810000000000002, 0.92069999999999996, 0.92910000000000004]\n"
     ]
    }
   ],
   "source": [
    "example = [100, 200, 500, 1000, 2000, 5000,10000]\n",
    "val_err = []\n",
    "for i in example:\n",
    "    train = random_split(trainMnist,i)\n",
    "    #train = random_split(trainMnist,i)\n",
    "    #validation = np.asarray(validation_mnist)\n",
    "    model = svm.SVC(kernel=\"linear\").fit(train['trainset'],train['label'])\n",
    "    acc = model.score(val,label_val)\n",
    "    print('Sample size is', i, ';', 'Accuracy is', acc)\n",
    "    val_err.append(acc)\n",
    "print(val_err)"
   ]
  },
  {
   "cell_type": "markdown",
   "metadata": {},
   "source": [
    "Plot two kind of error rate in one figure"
   ]
  },
  {
   "cell_type": "code",
   "execution_count": 72,
   "metadata": {
    "collapsed": false
   },
   "outputs": [
    {
     "data": {
      "image/png": "[encoded data removed]",
      "text/plain": [
       "<matplotlib.figure.Figure at 0x11007c048>"
      ]
     },
     "metadata": {},
     "output_type": "display_data"
    }
   ],
   "source": [
    "plt.plot(example,[1-a for a in train_err] ,'b*',color=\"blue\")\n",
    "plt.plot(example,[1-a for a in train_err] ,'r-',color=\"blue\", linewidth=1.5, label = \"training error\")\n",
    "\n",
    "plt.plot(example,[1-a for a in val_err], 'b*',color=\"red\")\n",
    "plt.plot(example,[1-a for a in val_err],'r' ,color=\"red\", linewidth=1.5, label = \"validation error\")\n",
    "plt.xlabel(\"Training size\")\n",
    "plt.ylabel(\"Error rate\")\n",
    "plt.title(\"Mnist SVM Error Rate\")\n",
    "plt.legend(loc = \"upper right\")\n",
    "\n",
    "plt.ylim(0,0.3)\n",
    "plt.savefig(\"MnistLC.png\",dpi=72)\n",
    "plt.show()"
   ]
  },
  {
   "cell_type": "markdown",
   "metadata": {},
   "source": [
    "Problem3 Hyperparameter tuning"
   ]
  },
  {
   "cell_type": "code",
   "execution_count": 66,
   "metadata": {
    "collapsed": false
   },
   "outputs": [
    {
     "name": "stdout",
     "output_type": "stream",
     "text": [
      "C is 1 ; Accuracy is 0.9285\n",
      "C is 3 ; Accuracy is 0.9304\n",
      "C is 10 ; Accuracy is 0.9301\n",
      "C is 30 ; Accuracy is 0.9204\n",
      "C is 100 ; Accuracy is 0.9144\n",
      "C is 300 ; Accuracy is 0.9097\n",
      "C is 1000 ; Accuracy is 0.9088\n",
      "[0.92849999999999999, 0.9304, 0.93010000000000004, 0.9204, 0.91439999999999999, 0.90969999999999995, 0.90880000000000005]\n"
     ]
    }
   ],
   "source": [
    "train = random_split(trainMnist,10000)\n",
    "#validation = random_split(validation_mnist,10000)\n",
    "C = [1,3,10,30,100,300,1000]\n",
    "C_acc_mnist = []\n",
    "for i in C:\n",
    "    model = svm.SVC(C = i, kernel=\"linear\").fit(train['trainset'],train['label'])\n",
    "    acc = model.score(val,label_val)\n",
    "    print('C is', i, ';', 'Accuracy is', acc)\n",
    "    C_acc_mnist.append(acc)\n",
    "print(C_acc_mnist)\n",
    "C_opt = C[C_acc_mnist.index(max(C_acc_mnist))]\n"
   ]
  },
  {
   "cell_type": "code",
   "execution_count": 67,
   "metadata": {
    "collapsed": false
   },
   "outputs": [
    {
     "name": "stdout",
     "output_type": "stream",
     "text": [
      "The best C is 3 ; the corresponding accuracy is 0.9304\n"
     ]
    }
   ],
   "source": [
    "print('The best C is',C_opt, \";\", \"the corresponding accuracy is\", max(C_acc_mnist))"
   ]
  },
  {
   "cell_type": "markdown",
   "metadata": {},
   "source": [
    "Problem5 Prediction "
   ]
  },
  {
   "cell_type": "code",
   "execution_count": 68,
   "metadata": {
    "collapsed": false
   },
   "outputs": [
    {
     "name": "stderr",
     "output_type": "stream",
     "text": [
      "//anaconda/lib/python3.5/site-packages/sklearn/utils/validation.py:429: DataConversionWarning: Data with input dtype int64 was converted to float64 by the normalize function.\n",
      "  warnings.warn(msg, _DataConversionWarning)\n"
     ]
    }
   ],
   "source": [
    "mnist_test = sio.loadmat(cwd + \"/hw01_data/mnist/test.mat\")\n",
    "test_mnist = mnist_test['testX']\n",
    "test_mnist = normalize(test_mnist)"
   ]
  },
  {
   "cell_type": "code",
   "execution_count": 70,
   "metadata": {
    "collapsed": false
   },
   "outputs": [],
   "source": [
    "model = svm.SVC(C = C_opt, kernel=\"linear\").fit(mnist_train,train_label)\n",
    "result = model.predict(test_mnist)"
   ]
  },
  {
   "cell_type": "code",
   "execution_count": 71,
   "metadata": {
    "collapsed": true
   },
   "outputs": [],
   "source": [
    "np.savetxt('prediction_mnist.csv', result, delimiter = ',')"
   ]
  }
 ],
 "metadata": {
  "anaconda-cloud": {},
  "kernelspec": {
   "display_name": "Python [default]",
   "language": "python",
   "name": "python3"
  },
  "language_info": {
   "codemirror_mode": {
    "name": "ipython",
    "version": 3
   },
   "file_extension": ".py",
   "mimetype": "text/x-python",
   "name": "python",
   "nbconvert_exporter": "python",
   "pygments_lexer": "ipython3",
   "version": "3.5.2"
  }
 },
 "nbformat": 4,
 "nbformat_minor": 1
}
